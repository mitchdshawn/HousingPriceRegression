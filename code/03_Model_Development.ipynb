{
 "cells": [
  {
   "cell_type": "markdown",
   "metadata": {},
   "source": [
    "#### Notebook Description\n",
    "\n",
    "__03 contains the final model development and commentary on the conclusion.__\n",
    "\n",
    "\n",
    "\n",
    "## Index links\n",
    "- [Preparation](#Preparation)\n",
    "- [Hyperparameter Optimization](#Hyperparameter-Optimization)\n",
    "- [Final Model Determination](#Final-Model-Determination)\n",
    "- [Conclusion](#Conclusion)"
   ]
  },
  {
   "cell_type": "code",
   "execution_count": 2,
   "metadata": {},
   "outputs": [],
   "source": [
    "# imports\n",
    "import pandas as pd\n",
    "import numpy as np\n",
    "from sklearn.linear_model import LinearRegression, LassoCV, RidgeCV, ElasticNetCV, Ridge, Lasso, ElasticNet\n",
    "from sklearn.metrics import r2_score, mean_squared_error\n",
    "from sklearn.model_selection import train_test_split, cross_val_score, GridSearchCV\n",
    "from matplotlib import pyplot as plt\n",
    "import seaborn as sns\n",
    "from __future__ import print_function\n",
    "\n",
    "%matplotlib inline\n",
    "\n",
    "import warnings\n",
    "warnings.filterwarnings('ignore')"
   ]
  },
  {
   "cell_type": "code",
   "execution_count": 3,
   "metadata": {},
   "outputs": [],
   "source": [
    "# import final CSV's\n",
    "train = pd.read_csv('../datasets/train_final.csv', index_col=0)\n",
    "test = pd.read_csv('../datasets/test_final.csv', index_col=0)"
   ]
  },
  {
   "cell_type": "code",
   "execution_count": 4,
   "metadata": {},
   "outputs": [
    {
     "data": {
      "text/html": [
       "<div>\n",
       "<style scoped>\n",
       "    .dataframe tbody tr th:only-of-type {\n",
       "        vertical-align: middle;\n",
       "    }\n",
       "\n",
       "    .dataframe tbody tr th {\n",
       "        vertical-align: top;\n",
       "    }\n",
       "\n",
       "    .dataframe thead th {\n",
       "        text-align: right;\n",
       "    }\n",
       "</style>\n",
       "<table border=\"1\" class=\"dataframe\">\n",
       "  <thead>\n",
       "    <tr style=\"text-align: right;\">\n",
       "      <th></th>\n",
       "      <th>Lot Frontage</th>\n",
       "      <th>Lot Area</th>\n",
       "      <th>Year Built</th>\n",
       "      <th>Year Remod/Add</th>\n",
       "      <th>Mas Vnr Area</th>\n",
       "      <th>BsmtFin SF 1</th>\n",
       "      <th>BsmtFin SF 2</th>\n",
       "      <th>Bsmt Unf SF</th>\n",
       "      <th>2nd Flr SF</th>\n",
       "      <th>Low Qual Fin SF</th>\n",
       "      <th>...</th>\n",
       "      <th>Heating QC</th>\n",
       "      <th>Central Air</th>\n",
       "      <th>Kitchen Qual</th>\n",
       "      <th>Fireplace Qu</th>\n",
       "      <th>Garage Finish</th>\n",
       "      <th>Garage Qual</th>\n",
       "      <th>Garage Cond</th>\n",
       "      <th>Paved Drive</th>\n",
       "      <th>Pool QC</th>\n",
       "      <th>SalePrice</th>\n",
       "    </tr>\n",
       "  </thead>\n",
       "  <tbody>\n",
       "    <tr>\n",
       "      <th>0</th>\n",
       "      <td>-1.721152</td>\n",
       "      <td>0.427620</td>\n",
       "      <td>0.153560</td>\n",
       "      <td>0.994089</td>\n",
       "      <td>1.052065</td>\n",
       "      <td>0.198726</td>\n",
       "      <td>-0.293918</td>\n",
       "      <td>-0.835268</td>\n",
       "      <td>0.977170</td>\n",
       "      <td>-0.101005</td>\n",
       "      <td>...</td>\n",
       "      <td>0.887886</td>\n",
       "      <td>0.26775</td>\n",
       "      <td>0.737105</td>\n",
       "      <td>-0.938966</td>\n",
       "      <td>0.275654</td>\n",
       "      <td>0.283689</td>\n",
       "      <td>0.271216</td>\n",
       "      <td>0.314379</td>\n",
       "      <td>-0.039418</td>\n",
       "      <td>130500.0</td>\n",
       "    </tr>\n",
       "    <tr>\n",
       "      <th>1</th>\n",
       "      <td>-0.437329</td>\n",
       "      <td>0.170597</td>\n",
       "      <td>0.814931</td>\n",
       "      <td>0.610520</td>\n",
       "      <td>0.173026</td>\n",
       "      <td>0.427042</td>\n",
       "      <td>-0.293918</td>\n",
       "      <td>-0.644127</td>\n",
       "      <td>2.039453</td>\n",
       "      <td>-0.101005</td>\n",
       "      <td>...</td>\n",
       "      <td>0.887886</td>\n",
       "      <td>0.26775</td>\n",
       "      <td>0.737105</td>\n",
       "      <td>0.556642</td>\n",
       "      <td>0.275654</td>\n",
       "      <td>0.283689</td>\n",
       "      <td>0.271216</td>\n",
       "      <td>0.314379</td>\n",
       "      <td>-0.039418</td>\n",
       "      <td>220000.0</td>\n",
       "    </tr>\n",
       "    <tr>\n",
       "      <th>2</th>\n",
       "      <td>0.309079</td>\n",
       "      <td>-0.282525</td>\n",
       "      <td>-0.607017</td>\n",
       "      <td>1.089982</td>\n",
       "      <td>-0.566039</td>\n",
       "      <td>0.633405</td>\n",
       "      <td>-0.293918</td>\n",
       "      <td>-0.530353</td>\n",
       "      <td>-0.783185</td>\n",
       "      <td>-0.101005</td>\n",
       "      <td>...</td>\n",
       "      <td>-1.200000</td>\n",
       "      <td>0.26775</td>\n",
       "      <td>0.737105</td>\n",
       "      <td>-0.938966</td>\n",
       "      <td>-0.944386</td>\n",
       "      <td>0.283689</td>\n",
       "      <td>0.271216</td>\n",
       "      <td>0.314379</td>\n",
       "      <td>-0.039418</td>\n",
       "      <td>109000.0</td>\n",
       "    </tr>\n",
       "    <tr>\n",
       "      <th>3</th>\n",
       "      <td>0.458361</td>\n",
       "      <td>-0.043906</td>\n",
       "      <td>1.145617</td>\n",
       "      <td>1.089982</td>\n",
       "      <td>-0.566039</td>\n",
       "      <td>-0.971394</td>\n",
       "      <td>-0.293918</td>\n",
       "      <td>-0.398374</td>\n",
       "      <td>0.851097</td>\n",
       "      <td>-0.101005</td>\n",
       "      <td>...</td>\n",
       "      <td>-0.156057</td>\n",
       "      <td>0.26775</td>\n",
       "      <td>-0.771078</td>\n",
       "      <td>-0.938966</td>\n",
       "      <td>1.495694</td>\n",
       "      <td>0.283689</td>\n",
       "      <td>0.271216</td>\n",
       "      <td>0.314379</td>\n",
       "      <td>-0.039418</td>\n",
       "      <td>174000.0</td>\n",
       "    </tr>\n",
       "    <tr>\n",
       "      <th>4</th>\n",
       "      <td>0.727068</td>\n",
       "      <td>0.518752</td>\n",
       "      <td>-2.359651</td>\n",
       "      <td>0.418735</td>\n",
       "      <td>-0.566039</td>\n",
       "      <td>-0.971394</td>\n",
       "      <td>-0.293918</td>\n",
       "      <td>0.266069</td>\n",
       "      <td>0.650314</td>\n",
       "      <td>-0.101005</td>\n",
       "      <td>...</td>\n",
       "      <td>-1.200000</td>\n",
       "      <td>0.26775</td>\n",
       "      <td>-0.771078</td>\n",
       "      <td>-0.938966</td>\n",
       "      <td>-0.944386</td>\n",
       "      <td>0.283689</td>\n",
       "      <td>0.271216</td>\n",
       "      <td>-3.414896</td>\n",
       "      <td>-0.039418</td>\n",
       "      <td>138500.0</td>\n",
       "    </tr>\n",
       "  </tbody>\n",
       "</table>\n",
       "<p>5 rows × 268 columns</p>\n",
       "</div>"
      ],
      "text/plain": [
       "   Lot Frontage  Lot Area  Year Built  Year Remod/Add  Mas Vnr Area  \\\n",
       "0     -1.721152  0.427620    0.153560        0.994089      1.052065   \n",
       "1     -0.437329  0.170597    0.814931        0.610520      0.173026   \n",
       "2      0.309079 -0.282525   -0.607017        1.089982     -0.566039   \n",
       "3      0.458361 -0.043906    1.145617        1.089982     -0.566039   \n",
       "4      0.727068  0.518752   -2.359651        0.418735     -0.566039   \n",
       "\n",
       "   BsmtFin SF 1  BsmtFin SF 2  Bsmt Unf SF  2nd Flr SF  Low Qual Fin SF  \\\n",
       "0      0.198726     -0.293918    -0.835268    0.977170        -0.101005   \n",
       "1      0.427042     -0.293918    -0.644127    2.039453        -0.101005   \n",
       "2      0.633405     -0.293918    -0.530353   -0.783185        -0.101005   \n",
       "3     -0.971394     -0.293918    -0.398374    0.851097        -0.101005   \n",
       "4     -0.971394     -0.293918     0.266069    0.650314        -0.101005   \n",
       "\n",
       "     ...      Heating QC  Central Air  Kitchen Qual  Fireplace Qu  \\\n",
       "0    ...        0.887886      0.26775      0.737105     -0.938966   \n",
       "1    ...        0.887886      0.26775      0.737105      0.556642   \n",
       "2    ...       -1.200000      0.26775      0.737105     -0.938966   \n",
       "3    ...       -0.156057      0.26775     -0.771078     -0.938966   \n",
       "4    ...       -1.200000      0.26775     -0.771078     -0.938966   \n",
       "\n",
       "   Garage Finish  Garage Qual  Garage Cond  Paved Drive   Pool QC  SalePrice  \n",
       "0       0.275654     0.283689     0.271216     0.314379 -0.039418   130500.0  \n",
       "1       0.275654     0.283689     0.271216     0.314379 -0.039418   220000.0  \n",
       "2      -0.944386     0.283689     0.271216     0.314379 -0.039418   109000.0  \n",
       "3       1.495694     0.283689     0.271216     0.314379 -0.039418   174000.0  \n",
       "4      -0.944386     0.283689     0.271216    -3.414896 -0.039418   138500.0  \n",
       "\n",
       "[5 rows x 268 columns]"
      ]
     },
     "execution_count": 4,
     "metadata": {},
     "output_type": "execute_result"
    }
   ],
   "source": [
    "train.head()"
   ]
  },
  {
   "cell_type": "code",
   "execution_count": 5,
   "metadata": {},
   "outputs": [
    {
     "data": {
      "text/html": [
       "<div>\n",
       "<style scoped>\n",
       "    .dataframe tbody tr th:only-of-type {\n",
       "        vertical-align: middle;\n",
       "    }\n",
       "\n",
       "    .dataframe tbody tr th {\n",
       "        vertical-align: top;\n",
       "    }\n",
       "\n",
       "    .dataframe thead th {\n",
       "        text-align: right;\n",
       "    }\n",
       "</style>\n",
       "<table border=\"1\" class=\"dataframe\">\n",
       "  <thead>\n",
       "    <tr style=\"text-align: right;\">\n",
       "      <th></th>\n",
       "      <th>Lot Frontage</th>\n",
       "      <th>Lot Area</th>\n",
       "      <th>Year Built</th>\n",
       "      <th>Year Remod/Add</th>\n",
       "      <th>Mas Vnr Area</th>\n",
       "      <th>BsmtFin SF 1</th>\n",
       "      <th>BsmtFin SF 2</th>\n",
       "      <th>Bsmt Unf SF</th>\n",
       "      <th>2nd Flr SF</th>\n",
       "      <th>Low Qual Fin SF</th>\n",
       "      <th>...</th>\n",
       "      <th>Heating QC</th>\n",
       "      <th>Central Air</th>\n",
       "      <th>Kitchen Qual</th>\n",
       "      <th>Fireplace Qu</th>\n",
       "      <th>Garage Finish</th>\n",
       "      <th>Garage Qual</th>\n",
       "      <th>Garage Cond</th>\n",
       "      <th>Paved Drive</th>\n",
       "      <th>Pool QC</th>\n",
       "      <th>Id</th>\n",
       "    </tr>\n",
       "  </thead>\n",
       "  <tbody>\n",
       "    <tr>\n",
       "      <th>0</th>\n",
       "      <td>0.338936</td>\n",
       "      <td>-0.127677</td>\n",
       "      <td>-2.028965</td>\n",
       "      <td>-1.642950</td>\n",
       "      <td>-0.566039</td>\n",
       "      <td>-0.971394</td>\n",
       "      <td>-0.293918</td>\n",
       "      <td>1.048838</td>\n",
       "      <td>1.598197</td>\n",
       "      <td>-0.101005</td>\n",
       "      <td>...</td>\n",
       "      <td>-0.156057</td>\n",
       "      <td>-3.734833</td>\n",
       "      <td>-2.279262</td>\n",
       "      <td>-0.938966</td>\n",
       "      <td>-0.944386</td>\n",
       "      <td>-3.655683</td>\n",
       "      <td>-3.712056</td>\n",
       "      <td>0.314379</td>\n",
       "      <td>-0.039418</td>\n",
       "      <td>2658</td>\n",
       "    </tr>\n",
       "    <tr>\n",
       "      <th>1</th>\n",
       "      <td>-1.721152</td>\n",
       "      <td>-0.061676</td>\n",
       "      <td>0.186629</td>\n",
       "      <td>-0.348403</td>\n",
       "      <td>-0.566039</td>\n",
       "      <td>-0.971394</td>\n",
       "      <td>-0.293918</td>\n",
       "      <td>3.203728</td>\n",
       "      <td>-0.783185</td>\n",
       "      <td>-0.101005</td>\n",
       "      <td>...</td>\n",
       "      <td>-1.200000</td>\n",
       "      <td>0.267750</td>\n",
       "      <td>-0.771078</td>\n",
       "      <td>-0.938966</td>\n",
       "      <td>1.495694</td>\n",
       "      <td>0.283689</td>\n",
       "      <td>0.271216</td>\n",
       "      <td>0.314379</td>\n",
       "      <td>-0.039418</td>\n",
       "      <td>2718</td>\n",
       "    </tr>\n",
       "    <tr>\n",
       "      <th>2</th>\n",
       "      <td>0.010516</td>\n",
       "      <td>0.882900</td>\n",
       "      <td>1.145617</td>\n",
       "      <td>1.042035</td>\n",
       "      <td>-0.566039</td>\n",
       "      <td>0.244828</td>\n",
       "      <td>-0.293918</td>\n",
       "      <td>-1.044614</td>\n",
       "      <td>1.159276</td>\n",
       "      <td>-0.101005</td>\n",
       "      <td>...</td>\n",
       "      <td>0.887886</td>\n",
       "      <td>0.267750</td>\n",
       "      <td>0.737105</td>\n",
       "      <td>1.304445</td>\n",
       "      <td>0.275654</td>\n",
       "      <td>0.283689</td>\n",
       "      <td>0.271216</td>\n",
       "      <td>0.314379</td>\n",
       "      <td>-0.039418</td>\n",
       "      <td>2414</td>\n",
       "    </tr>\n",
       "    <tr>\n",
       "      <th>3</th>\n",
       "      <td>0.070229</td>\n",
       "      <td>-0.206624</td>\n",
       "      <td>-1.599074</td>\n",
       "      <td>1.042035</td>\n",
       "      <td>-0.566039</td>\n",
       "      <td>-0.971394</td>\n",
       "      <td>-0.293918</td>\n",
       "      <td>0.930513</td>\n",
       "      <td>-0.783185</td>\n",
       "      <td>-0.101005</td>\n",
       "      <td>...</td>\n",
       "      <td>-1.200000</td>\n",
       "      <td>0.267750</td>\n",
       "      <td>-0.771078</td>\n",
       "      <td>-0.938966</td>\n",
       "      <td>-0.944386</td>\n",
       "      <td>-1.685997</td>\n",
       "      <td>0.271216</td>\n",
       "      <td>-3.414896</td>\n",
       "      <td>-0.039418</td>\n",
       "      <td>1989</td>\n",
       "    </tr>\n",
       "    <tr>\n",
       "      <th>4</th>\n",
       "      <td>-1.721152</td>\n",
       "      <td>-0.082237</td>\n",
       "      <td>-0.276331</td>\n",
       "      <td>-1.019650</td>\n",
       "      <td>0.816908</td>\n",
       "      <td>0.365573</td>\n",
       "      <td>-0.293918</td>\n",
       "      <td>0.514098</td>\n",
       "      <td>-0.783185</td>\n",
       "      <td>-0.101005</td>\n",
       "      <td>...</td>\n",
       "      <td>-0.156057</td>\n",
       "      <td>0.267750</td>\n",
       "      <td>-0.771078</td>\n",
       "      <td>1.304445</td>\n",
       "      <td>0.275654</td>\n",
       "      <td>0.283689</td>\n",
       "      <td>0.271216</td>\n",
       "      <td>0.314379</td>\n",
       "      <td>-0.039418</td>\n",
       "      <td>625</td>\n",
       "    </tr>\n",
       "  </tbody>\n",
       "</table>\n",
       "<p>5 rows × 268 columns</p>\n",
       "</div>"
      ],
      "text/plain": [
       "   Lot Frontage  Lot Area  Year Built  Year Remod/Add  Mas Vnr Area  \\\n",
       "0      0.338936 -0.127677   -2.028965       -1.642950     -0.566039   \n",
       "1     -1.721152 -0.061676    0.186629       -0.348403     -0.566039   \n",
       "2      0.010516  0.882900    1.145617        1.042035     -0.566039   \n",
       "3      0.070229 -0.206624   -1.599074        1.042035     -0.566039   \n",
       "4     -1.721152 -0.082237   -0.276331       -1.019650      0.816908   \n",
       "\n",
       "   BsmtFin SF 1  BsmtFin SF 2  Bsmt Unf SF  2nd Flr SF  Low Qual Fin SF  ...   \\\n",
       "0     -0.971394     -0.293918     1.048838    1.598197        -0.101005  ...    \n",
       "1     -0.971394     -0.293918     3.203728   -0.783185        -0.101005  ...    \n",
       "2      0.244828     -0.293918    -1.044614    1.159276        -0.101005  ...    \n",
       "3     -0.971394     -0.293918     0.930513   -0.783185        -0.101005  ...    \n",
       "4      0.365573     -0.293918     0.514098   -0.783185        -0.101005  ...    \n",
       "\n",
       "   Heating QC  Central Air  Kitchen Qual  Fireplace Qu  Garage Finish  \\\n",
       "0   -0.156057    -3.734833     -2.279262     -0.938966      -0.944386   \n",
       "1   -1.200000     0.267750     -0.771078     -0.938966       1.495694   \n",
       "2    0.887886     0.267750      0.737105      1.304445       0.275654   \n",
       "3   -1.200000     0.267750     -0.771078     -0.938966      -0.944386   \n",
       "4   -0.156057     0.267750     -0.771078      1.304445       0.275654   \n",
       "\n",
       "   Garage Qual  Garage Cond  Paved Drive   Pool QC    Id  \n",
       "0    -3.655683    -3.712056     0.314379 -0.039418  2658  \n",
       "1     0.283689     0.271216     0.314379 -0.039418  2718  \n",
       "2     0.283689     0.271216     0.314379 -0.039418  2414  \n",
       "3    -1.685997     0.271216    -3.414896 -0.039418  1989  \n",
       "4     0.283689     0.271216     0.314379 -0.039418   625  \n",
       "\n",
       "[5 rows x 268 columns]"
      ]
     },
     "execution_count": 5,
     "metadata": {},
     "output_type": "execute_result"
    }
   ],
   "source": [
    "test.head()"
   ]
  },
  {
   "cell_type": "markdown",
   "metadata": {},
   "source": [
    "## Preparation\n",
    "\n",
    "We'll proceed with testing to see how the models perform after the final preprocessing."
   ]
  },
  {
   "cell_type": "code",
   "execution_count": 6,
   "metadata": {},
   "outputs": [],
   "source": [
    "features = [col for col in train.columns if col != 'SalePrice']\n",
    "X = train[features]\n",
    "y = train['SalePrice']\n",
    "\n",
    "test['SalePrice'] = 0\n",
    "X_kag = test[features]\n",
    "y_kag = test['SalePrice']"
   ]
  },
  {
   "cell_type": "code",
   "execution_count": 7,
   "metadata": {},
   "outputs": [],
   "source": [
    "def scoring(X, y):\n",
    "    # linear regression score\n",
    "    lr = LinearRegression()\n",
    "    lr = lr.fit(X, y)\n",
    "    print('OLS CV score: ' + str(cross_val_score(lr, X, y, cv=3).mean()))\n",
    "    \n",
    "    # ridge score\n",
    "    ridge = RidgeCV(alphas=np.linspace(.1, 10, 100))\n",
    "    ridge = ridge.fit(X, y)\n",
    "    print('Ridge CV score: ' + str(cross_val_score(ridge, X, y, cv=3).mean()))\n",
    "    \n",
    "    # lasso score\n",
    "    lasso = LassoCV(n_alphas=200)\n",
    "    lasso = lasso.fit(X, y)\n",
    "    print('Lasso CV score: ' + str(cross_val_score(lasso, X, y, cv=3).mean()))\n",
    "    \n",
    "    # elastic score\n",
    "    elastic = ElasticNetCV()\n",
    "    elastic = elastic.fit(X, y)\n",
    "    print('Elastic CV score: ' + str(cross_val_score(elastic, X, y, cv=3).mean()))\n",
    "    return lr, ridge, lasso, elastic"
   ]
  },
  {
   "cell_type": "code",
   "execution_count": 8,
   "metadata": {},
   "outputs": [
    {
     "name": "stdout",
     "output_type": "stream",
     "text": [
      "OLS CV score: -1.9824986520083016e+18\n",
      "Ridge CV score: 0.8727067844426326\n",
      "Lasso CV score: 0.8213346642278733\n",
      "Elastic CV score: 0.3460094318070464\n"
     ]
    }
   ],
   "source": [
    "# test the function\n",
    "lr, ridge, lasso, elastic = scoring(X, y)"
   ]
  },
  {
   "cell_type": "code",
   "execution_count": 9,
   "metadata": {},
   "outputs": [],
   "source": [
    "X_train, X_test, y_train, y_test = train_test_split(X, y)"
   ]
  },
  {
   "cell_type": "code",
   "execution_count": 10,
   "metadata": {},
   "outputs": [
    {
     "data": {
      "image/png": "[encoded data removed]",
      "text/plain": [
       "<Figure size 432x288 with 1 Axes>"
      ]
     },
     "metadata": {
      "needs_background": "light"
     },
     "output_type": "display_data"
    }
   ],
   "source": [
    "y_pred = lr.predict(X_test)\n",
    "errors = y_test - y_pred\n",
    "plt.title('OLS error distribution')\n",
    "plt.xlabel('Actual value')\n",
    "plt.ylabel('Error at this value')\n",
    "plt.scatter(y_test, errors);"
   ]
  },
  {
   "cell_type": "code",
   "execution_count": 11,
   "metadata": {},
   "outputs": [
    {
     "data": {
      "image/png": "[encoded data removed]",
      "text/plain": [
       "<Figure size 432x288 with 1 Axes>"
      ]
     },
     "metadata": {
      "needs_background": "light"
     },
     "output_type": "display_data"
    }
   ],
   "source": [
    "y_pred = lasso.predict(X_test)\n",
    "errors = y_test - y_pred\n",
    "plt.title('Lasso error distribution')\n",
    "plt.xlabel('Actual value')\n",
    "plt.ylabel('Error at this value')\n",
    "plt.scatter(y_test, errors);"
   ]
  },
  {
   "cell_type": "code",
   "execution_count": 12,
   "metadata": {},
   "outputs": [
    {
     "data": {
      "image/png": "[encoded data removed]",
      "text/plain": [
       "<Figure size 432x288 with 1 Axes>"
      ]
     },
     "metadata": {
      "needs_background": "light"
     },
     "output_type": "display_data"
    }
   ],
   "source": [
    "y_pred = ridge.predict(X_test)\n",
    "errors = y_test - y_pred\n",
    "plt.title('Ridge error distribution')\n",
    "plt.xlabel('Actual value')\n",
    "plt.ylabel('Error at this value')\n",
    "plt.scatter(y_test, errors);"
   ]
  },
  {
   "cell_type": "markdown",
   "metadata": {},
   "source": [
    "### Review of Initial Results\n",
    "\n",
    "OLS regression is having major problems with some aspect of the new features.  Elastic isn't performing well either.  We will be proceeding with Lasso and Ridge instead.  We added a significant number of features to the column, ordinary least squares regression was not expected to perform well with so many features."
   ]
  },
  {
   "cell_type": "code",
   "execution_count": 13,
   "metadata": {},
   "outputs": [],
   "source": [
    "# predicting the target values in the kaggle competition\n",
    "kag_pred = lasso.predict(X_kag)\n",
    "sub5_lasso_impr = test.copy()\n",
    "sub5_lasso_impr['SalePrice'] = kag_pred\n",
    "sub5_lasso_impr = sub5_lasso_impr[['Id', 'SalePrice']]\n",
    "sub5_lasso_impr['SalePrice'].head()\n",
    "sub5_lasso_impr.to_csv('../subs/sub5_lasso_impr.csv', index=False)"
   ]
  },
  {
   "cell_type": "code",
   "execution_count": 14,
   "metadata": {},
   "outputs": [],
   "source": [
    "# predicting the target values in the kaggle competition\n",
    "kag_pred = ridge.predict(X_kag)\n",
    "sub6_ridge_impr = test.copy()\n",
    "sub6_ridge_impr['SalePrice'] = kag_pred\n",
    "sub6_ridge_impr = sub6_ridge_impr[['Id', 'SalePrice']]\n",
    "sub6_ridge_impr['SalePrice'].head()\n",
    "sub6_ridge_impr.to_csv('../subs/sub6_ridge_impr.csv', index=False)"
   ]
  },
  {
   "cell_type": "markdown",
   "metadata": {},
   "source": [
    "## Hyperparameter Optimization\n",
    "\n",
    "We will create a function to test hyperparameters using grid search, and see how scores might be improved. "
   ]
  },
  {
   "cell_type": "code",
   "execution_count": 15,
   "metadata": {},
   "outputs": [
    {
     "data": {
      "image/png": "[encoded data removed]",
      "text/plain": [
       "<Figure size 1080x432 with 1 Axes>"
      ]
     },
     "metadata": {
      "needs_background": "light"
     },
     "output_type": "display_data"
    }
   ],
   "source": [
    "ridge = Ridge(random_state=0)\n",
    "alphas = (0.1, 0.5, 1, 5, 10, 30, 50, 100)\n",
    "\n",
    "tuned_parameters = [{'alpha': alphas}]\n",
    "n_folds = 5\n",
    "\n",
    "clf = GridSearchCV(ridge, tuned_parameters, cv=n_folds, refit=False)\n",
    "clf.fit(X, y)\n",
    "scores = clf.cv_results_['mean_test_score']\n",
    "scores_std = clf.cv_results_['std_test_score']\n",
    "plt.figure().set_size_inches(15, 6)\n",
    "plt.semilogx(alphas, scores)\n",
    "\n",
    "# plot error lines showing +/- std. errors of the scores\n",
    "std_error = scores_std / np.sqrt(n_folds)\n",
    "\n",
    "plt.semilogx(alphas, scores + std_error, 'b--')\n",
    "plt.semilogx(alphas, scores - std_error, 'b--')\n",
    "\n",
    "# alpha=0.2 controls the translucency of the fill color\n",
    "plt.fill_between(alphas, scores + std_error, scores - std_error, alpha=0.2)\n",
    "\n",
    "plt.ylabel('CV score +/- std error')\n",
    "plt.xlabel('alpha')\n",
    "plt.axhline(np.max(scores), linestyle='--', color='.5')\n",
    "plt.xlim([alphas[0], alphas[-1]])\n",
    "\n",
    "plt.show()"
   ]
  },
  {
   "cell_type": "code",
   "execution_count": 16,
   "metadata": {},
   "outputs": [
    {
     "data": {
      "image/png": "[encoded data removed]",
      "text/plain": [
       "<Figure size 1080x432 with 1 Axes>"
      ]
     },
     "metadata": {
      "needs_background": "light"
     },
     "output_type": "display_data"
    }
   ],
   "source": [
    "lasso = Lasso(random_state=0)\n",
    "alphas = (0.1, 0.5, 1, 5, 10, 30, 50, 100)\n",
    "\n",
    "tuned_parameters = [{'alpha': alphas}]\n",
    "n_folds = 5\n",
    "\n",
    "clf = GridSearchCV(lasso, tuned_parameters, cv=n_folds, refit=False)\n",
    "clf.fit(X, y)\n",
    "scores = clf.cv_results_['mean_test_score']\n",
    "scores_std = clf.cv_results_['std_test_score']\n",
    "plt.figure().set_size_inches(15, 6)\n",
    "plt.semilogx(alphas, scores)\n",
    "\n",
    "# plot error lines showing +/- std. errors of the scores\n",
    "std_error = scores_std / np.sqrt(n_folds)\n",
    "\n",
    "plt.semilogx(alphas, scores + std_error, 'b--')\n",
    "plt.semilogx(alphas, scores - std_error, 'b--')\n",
    "\n",
    "# alpha=0.2 controls the translucency of the fill color\n",
    "plt.fill_between(alphas, scores + std_error, scores - std_error, alpha=0.2)\n",
    "\n",
    "plt.ylabel('CV score +/- std error')\n",
    "plt.xlabel('alpha')\n",
    "plt.axhline(np.max(scores), linestyle='--', color='.5')\n",
    "plt.xlim([alphas[0], alphas[-1]])\n",
    "\n",
    "plt.show()"
   ]
  },
  {
   "cell_type": "markdown",
   "metadata": {},
   "source": [
    "#### Review\n",
    "\n",
    "Reviewing the grid search, Lasso works best with an alpha of 10 and Ridge works best with an alpha of 50.  These are both approximations, but we do see either a drop-off in performance or a plateau for each."
   ]
  },
  {
   "cell_type": "markdown",
   "metadata": {},
   "source": [
    "### Final Model Determination\n",
    "\n",
    "We will compare LassoCV and RidgeCV performance, plot errors, and choose which of the two performs the best to be our final production model."
   ]
  },
  {
   "cell_type": "code",
   "execution_count": 17,
   "metadata": {},
   "outputs": [],
   "source": [
    "lasso = LassoCV(alphas=[2,4,8,10,12,14,16], cv=5).fit(X, y)\n",
    "ridge = RidgeCV(alphas=[30,35,40,45,50,55], cv=5).fit(X, y)"
   ]
  },
  {
   "cell_type": "code",
   "execution_count": 18,
   "metadata": {},
   "outputs": [
    {
     "data": {
      "image/png": "[encoded data removed]",
      "text/plain": [
       "<Figure size 432x288 with 1 Axes>"
      ]
     },
     "metadata": {
      "needs_background": "light"
     },
     "output_type": "display_data"
    }
   ],
   "source": [
    "y_pred = lasso.predict(X_test)\n",
    "errors = y_test - y_pred\n",
    "plt.title('LassoCV error distribution')\n",
    "plt.xlabel('Actual value')\n",
    "plt.ylabel('Error at this value')\n",
    "plt.scatter(y_test, errors);"
   ]
  },
  {
   "cell_type": "code",
   "execution_count": 19,
   "metadata": {},
   "outputs": [
    {
     "data": {
      "text/plain": [
       "0.9258427607264067"
      ]
     },
     "execution_count": 19,
     "metadata": {},
     "output_type": "execute_result"
    }
   ],
   "source": [
    "lasso.score(X_train, y_train)"
   ]
  },
  {
   "cell_type": "code",
   "execution_count": 20,
   "metadata": {},
   "outputs": [
    {
     "data": {
      "text/plain": [
       "0.9422364411570168"
      ]
     },
     "execution_count": 20,
     "metadata": {},
     "output_type": "execute_result"
    }
   ],
   "source": [
    "lasso.score(X_test, y_test)"
   ]
  },
  {
   "cell_type": "code",
   "execution_count": 21,
   "metadata": {},
   "outputs": [
    {
     "data": {
      "text/plain": [
       "0.8628983746467658"
      ]
     },
     "execution_count": 21,
     "metadata": {},
     "output_type": "execute_result"
    }
   ],
   "source": [
    "cross_val_score(lasso, X, y, cv=5).mean()"
   ]
  },
  {
   "cell_type": "code",
   "execution_count": 22,
   "metadata": {},
   "outputs": [
    {
     "data": {
      "image/png": "[encoded data removed]",
      "text/plain": [
       "<Figure size 432x288 with 1 Axes>"
      ]
     },
     "metadata": {
      "needs_background": "light"
     },
     "output_type": "display_data"
    }
   ],
   "source": [
    "y_pred = ridge.predict(X_test)\n",
    "errors = y_test - y_pred\n",
    "plt.title('RidgeCV error distribution')\n",
    "plt.xlabel('Actual value')\n",
    "plt.ylabel('Error at this value')\n",
    "plt.scatter(y_test, errors);"
   ]
  },
  {
   "cell_type": "code",
   "execution_count": 23,
   "metadata": {},
   "outputs": [
    {
     "data": {
      "text/plain": [
       "0.910739092910603"
      ]
     },
     "execution_count": 23,
     "metadata": {},
     "output_type": "execute_result"
    }
   ],
   "source": [
    "ridge.score(X_train, y_train)"
   ]
  },
  {
   "cell_type": "code",
   "execution_count": 24,
   "metadata": {},
   "outputs": [
    {
     "data": {
      "text/plain": [
       "0.9362450831112175"
      ]
     },
     "execution_count": 24,
     "metadata": {},
     "output_type": "execute_result"
    }
   ],
   "source": [
    "ridge.score(X_test, y_test)"
   ]
  },
  {
   "cell_type": "code",
   "execution_count": 25,
   "metadata": {},
   "outputs": [
    {
     "data": {
      "text/plain": [
       "0.862544403884988"
      ]
     },
     "execution_count": 25,
     "metadata": {},
     "output_type": "execute_result"
    }
   ],
   "source": [
    "cross_val_score(ridge, X, y, cv=5).mean()"
   ]
  },
  {
   "cell_type": "code",
   "execution_count": 27,
   "metadata": {},
   "outputs": [
    {
     "data": {
      "text/html": [
       "<div>\n",
       "<style scoped>\n",
       "    .dataframe tbody tr th:only-of-type {\n",
       "        vertical-align: middle;\n",
       "    }\n",
       "\n",
       "    .dataframe tbody tr th {\n",
       "        vertical-align: top;\n",
       "    }\n",
       "\n",
       "    .dataframe thead th {\n",
       "        text-align: right;\n",
       "    }\n",
       "</style>\n",
       "<table border=\"1\" class=\"dataframe\">\n",
       "  <thead>\n",
       "    <tr style=\"text-align: right;\">\n",
       "      <th></th>\n",
       "      <th>coefs</th>\n",
       "      <th>abs_coefs</th>\n",
       "    </tr>\n",
       "  </thead>\n",
       "  <tbody>\n",
       "    <tr>\n",
       "      <th>Neighborhood_Timber</th>\n",
       "      <td>19198.649533</td>\n",
       "      <td>19198.649533</td>\n",
       "    </tr>\n",
       "    <tr>\n",
       "      <th>Garage Cars TotRms AbvGrd</th>\n",
       "      <td>18802.725274</td>\n",
       "      <td>18802.725274</td>\n",
       "    </tr>\n",
       "    <tr>\n",
       "      <th>Garage Cars 1st Flr SF</th>\n",
       "      <td>18706.036199</td>\n",
       "      <td>18706.036199</td>\n",
       "    </tr>\n",
       "    <tr>\n",
       "      <th>Garage Cars TotRms AbvGrd.1</th>\n",
       "      <td>-17700.182493</td>\n",
       "      <td>17700.182493</td>\n",
       "    </tr>\n",
       "    <tr>\n",
       "      <th>Total Bsmt SF Bedroom AbvGr</th>\n",
       "      <td>-16085.974266</td>\n",
       "      <td>16085.974266</td>\n",
       "    </tr>\n",
       "    <tr>\n",
       "      <th>Neighborhood_OldTown</th>\n",
       "      <td>15351.077658</td>\n",
       "      <td>15351.077658</td>\n",
       "    </tr>\n",
       "    <tr>\n",
       "      <th>Garage Cars Bedroom AbvGr</th>\n",
       "      <td>13541.012049</td>\n",
       "      <td>13541.012049</td>\n",
       "    </tr>\n",
       "    <tr>\n",
       "      <th>Overall Cond</th>\n",
       "      <td>12926.491454</td>\n",
       "      <td>12926.491454</td>\n",
       "    </tr>\n",
       "    <tr>\n",
       "      <th>Gr Liv Area TotRms AbvGrd.1</th>\n",
       "      <td>12681.922084</td>\n",
       "      <td>12681.922084</td>\n",
       "    </tr>\n",
       "    <tr>\n",
       "      <th>Gr Liv Area 1st Flr SF</th>\n",
       "      <td>-11976.595896</td>\n",
       "      <td>11976.595896</td>\n",
       "    </tr>\n",
       "  </tbody>\n",
       "</table>\n",
       "</div>"
      ],
      "text/plain": [
       "                                    coefs     abs_coefs\n",
       "Neighborhood_Timber          19198.649533  19198.649533\n",
       "Garage Cars TotRms AbvGrd    18802.725274  18802.725274\n",
       "Garage Cars 1st Flr SF       18706.036199  18706.036199\n",
       "Garage Cars TotRms AbvGrd.1 -17700.182493  17700.182493\n",
       "Total Bsmt SF Bedroom AbvGr -16085.974266  16085.974266\n",
       "Neighborhood_OldTown         15351.077658  15351.077658\n",
       "Garage Cars Bedroom AbvGr    13541.012049  13541.012049\n",
       "Overall Cond                 12926.491454  12926.491454\n",
       "Gr Liv Area TotRms AbvGrd.1  12681.922084  12681.922084\n",
       "Gr Liv Area 1st Flr SF      -11976.595896  11976.595896"
      ]
     },
     "execution_count": 27,
     "metadata": {},
     "output_type": "execute_result"
    }
   ],
   "source": [
    "coef_df = pd.DataFrame(ridge.coef_, columns=['coefs'])\n",
    "coef_df['abs_coefs'] = abs(ridge.coef_)\n",
    "coef_df.index = train.columns[1:]\n",
    "coef_df = coef_df.sort_values('abs_coefs', ascending=False)\n",
    "coef_df.head(10)"
   ]
  },
  {
   "cell_type": "code",
   "execution_count": 28,
   "metadata": {},
   "outputs": [
    {
     "data": {
      "text/html": [
       "<div>\n",
       "<style scoped>\n",
       "    .dataframe tbody tr th:only-of-type {\n",
       "        vertical-align: middle;\n",
       "    }\n",
       "\n",
       "    .dataframe tbody tr th {\n",
       "        vertical-align: top;\n",
       "    }\n",
       "\n",
       "    .dataframe thead th {\n",
       "        text-align: right;\n",
       "    }\n",
       "</style>\n",
       "<table border=\"1\" class=\"dataframe\">\n",
       "  <thead>\n",
       "    <tr style=\"text-align: right;\">\n",
       "      <th></th>\n",
       "      <th>coefs</th>\n",
       "      <th>abs_coefs</th>\n",
       "    </tr>\n",
       "  </thead>\n",
       "  <tbody>\n",
       "    <tr>\n",
       "      <th>Neighborhood_Timber</th>\n",
       "      <td>43433.327990</td>\n",
       "      <td>19198.649533</td>\n",
       "    </tr>\n",
       "    <tr>\n",
       "      <th>Garage Cars TotRms AbvGrd</th>\n",
       "      <td>41521.251380</td>\n",
       "      <td>18802.725274</td>\n",
       "    </tr>\n",
       "    <tr>\n",
       "      <th>Garage Cars 1st Flr SF</th>\n",
       "      <td>26866.619040</td>\n",
       "      <td>18706.036199</td>\n",
       "    </tr>\n",
       "    <tr>\n",
       "      <th>Garage Cars TotRms AbvGrd.1</th>\n",
       "      <td>-29687.764936</td>\n",
       "      <td>17700.182493</td>\n",
       "    </tr>\n",
       "    <tr>\n",
       "      <th>Total Bsmt SF Bedroom AbvGr</th>\n",
       "      <td>-14558.216434</td>\n",
       "      <td>16085.974266</td>\n",
       "    </tr>\n",
       "    <tr>\n",
       "      <th>Neighborhood_OldTown</th>\n",
       "      <td>26314.529829</td>\n",
       "      <td>15351.077658</td>\n",
       "    </tr>\n",
       "    <tr>\n",
       "      <th>Garage Cars Bedroom AbvGr</th>\n",
       "      <td>14812.018715</td>\n",
       "      <td>13541.012049</td>\n",
       "    </tr>\n",
       "    <tr>\n",
       "      <th>Overall Cond</th>\n",
       "      <td>11172.583745</td>\n",
       "      <td>12926.491454</td>\n",
       "    </tr>\n",
       "    <tr>\n",
       "      <th>Gr Liv Area TotRms AbvGrd.1</th>\n",
       "      <td>26606.218763</td>\n",
       "      <td>12681.922084</td>\n",
       "    </tr>\n",
       "    <tr>\n",
       "      <th>Gr Liv Area 1st Flr SF</th>\n",
       "      <td>-5059.835377</td>\n",
       "      <td>11976.595896</td>\n",
       "    </tr>\n",
       "  </tbody>\n",
       "</table>\n",
       "</div>"
      ],
      "text/plain": [
       "                                    coefs     abs_coefs\n",
       "Neighborhood_Timber          43433.327990  19198.649533\n",
       "Garage Cars TotRms AbvGrd    41521.251380  18802.725274\n",
       "Garage Cars 1st Flr SF       26866.619040  18706.036199\n",
       "Garage Cars TotRms AbvGrd.1 -29687.764936  17700.182493\n",
       "Total Bsmt SF Bedroom AbvGr -14558.216434  16085.974266\n",
       "Neighborhood_OldTown         26314.529829  15351.077658\n",
       "Garage Cars Bedroom AbvGr    14812.018715  13541.012049\n",
       "Overall Cond                 11172.583745  12926.491454\n",
       "Gr Liv Area TotRms AbvGrd.1  26606.218763  12681.922084\n",
       "Gr Liv Area 1st Flr SF       -5059.835377  11976.595896"
      ]
     },
     "execution_count": 28,
     "metadata": {},
     "output_type": "execute_result"
    }
   ],
   "source": [
    "coef_df = pd.DataFrame(lasso.coef_, columns=['coefs'])\n",
    "coef_df['abs_coefs'] = abs(ridge.coef_)\n",
    "coef_df.index = train.columns[1:]\n",
    "coef_df = coef_df.sort_values('abs_coefs', ascending=False)\n",
    "coef_df.head(10)"
   ]
  },
  {
   "cell_type": "code",
   "execution_count": 74,
   "metadata": {},
   "outputs": [],
   "source": [
    "# predicting the target values in the kaggle competition\n",
    "kag_pred = ridge.predict(X_kag)\n",
    "sub7_ridge_final = test.copy()\n",
    "sub7_ridge_final['SalePrice'] = kag_pred\n",
    "sub7_ridge_final = sub7_ridge_final[['Id', 'SalePrice']]\n",
    "sub7_ridge_final['SalePrice'].head()\n",
    "sub7_ridge_final.to_csv('../subs/sub7_ridge_final.csv', index=False)"
   ]
  },
  {
   "cell_type": "code",
   "execution_count": 75,
   "metadata": {},
   "outputs": [],
   "source": [
    "# predicting the target values in the kaggle competition\n",
    "kag_pred = ridge.predict(X_kag)\n",
    "sub8_lasso_final = test.copy()\n",
    "sub8_lasso_final['SalePrice'] = kag_pred\n",
    "sub8_lasso_final = sub8_lasso_final[['Id', 'SalePrice']]\n",
    "sub8_lasso_final['SalePrice'].head()\n",
    "sub8_lasso_final.to_csv('../subs/sub8_lasso_final.csv', index=False)"
   ]
  },
  {
   "cell_type": "markdown",
   "metadata": {},
   "source": [
    "### Results review and final model commentary\n",
    "\n",
    "The models performed reasonably well, just over 23,000 for Ridge.  Ridge performed better than Lasso on the Kaggle competition, despite the scores being very close with our local cross-validation and train/test comparison.  The final model we'll proceed with for production will be RidgeCV.  The model should be able to generalize new data, as it uses almost all original data columns aside from one.  The data EDA would flow well with new housing data, new data can be fed into it and cleaning will be performed through the existing.  __Note the exception to this of the one invalid data point that was manually re-assigned__.  New data entered into the model would still greatly benefit from close review, as new problems may exist that weren't covered in the data used here.\n",
    "\n",
    "Further tuning of the model could be undertaken, however we already have a high degree of accuracy, the marginal benefit of any increased time invested into optimizing the model at this time would have drastically falling benefits.\n",
    "\n",
    "## Conclusion\n",
    "\n",
    "Across this project, we completed the following tasks:\n",
    "\n",
    "##### Initial Data Cleaning\n",
    "1. Missing values and invalid data were cleaned\n",
    "2. Skewed data were log transformed to move them towards normal distributions\n",
    "3. Polynomial features were created between closely correlated values\n",
    "\n",
    "##### Basic model development\n",
    "1. Basic linear regression reviewed\n",
    "2. Basic ridge and lasso regressions reviewed\n",
    "3. Feature scaling\n",
    "4. Categorical data replacement\n",
    "\n",
    "##### Final model development\n",
    "1. Models were re-evaluated with the newest data\n",
    "2. Hyperparameter optimization was tested with grid search\n",
    "3. Final model candidates were tested, and RidgeCV were the highest overall performer\n",
    "\n",
    "\n",
    "##### Further model development<br>\n",
    "Our current Ridge model scores are quite adequate.  Further improvements could be considered to improve the model, however the marginal benefit of further exploration or model adjustments is likely to be very low.  Further improvement should be undertaken only if for the business case the current model accuracy is not high enough.\n",
    "\n",
    "Potential improvement areas:\n",
    "1. Feature removal\n",
    "2. Polynomial feature selection adjustment\n",
    "3. Modification of our previous decisions on how to handle missing data"
   ]
  },
  {
   "cell_type": "code",
   "execution_count": null,
   "metadata": {},
   "outputs": [],
   "source": []
  }
 ],
 "metadata": {
  "kernelspec": {
   "display_name": "Python 3",
   "language": "python",
   "name": "python3"
  },
  "language_info": {
   "codemirror_mode": {
    "name": "ipython",
    "version": 3
   },
   "file_extension": ".py",
   "mimetype": "text/x-python",
   "name": "python",
   "nbconvert_exporter": "python",
   "pygments_lexer": "ipython3",
   "version": "3.7.0"
  }
 },
 "nbformat": 4,
 "nbformat_minor": 2
}
